{
 "cells": [
  {
   "cell_type": "markdown",
   "metadata": {},
   "source": [
    "# XML/HTML\n",
    "---"
   ]
  },
  {
   "cell_type": "markdown",
   "metadata": {},
   "source": [
    "## XML\n",
    "---"
   ]
  },
  {
   "cell_type": "markdown",
   "metadata": {},
   "source": [
    "```xml\n",
    "<library>\n",
    "    <metadata></metadata>\n",
    "    <books>\n",
    "        <book>\n",
    "            <authors>\n",
    "                <author>\n",
    "                    <firstname>Mark Lutz</firstname>\n",
    "                    <country></country>\n",
    "                </author>\n",
    "                <author></author>\n",
    "            </authors>\n",
    "            <title>Learning Python</title>\n",
    "            <isbn></isbn>\n",
    "        </book>\n",
    "        <book></book>\n",
    "    </books>\n",
    "</library>\n",
    "```"
   ]
  },
  {
   "cell_type": "markdown",
   "metadata": {},
   "source": [
    "- Sections of a xml document are called _element_\n",
    "- Here _library_, _metadata_ are called tags of xml document (`tag` is a type of `element`)\n",
    "- _books_ tag contains multiple children tag called _book_ (An `element` can contain multiple child elements)\n",
    "- `Learning Python` is text element."
   ]
  },
  {
   "cell_type": "markdown",
   "metadata": {},
   "source": [
    "DTD - Document Type Definition\n",
    "\n",
    "    defines the structure of a xml document"
   ]
  },
  {
   "cell_type": "markdown",
   "metadata": {},
   "source": [
    "## HTML Basics\n",
    "---\n",
    "\n",
    "- HyperText Markup Language\n",
    "- HTML is special case of XML, where tags and attributes are predefined.\n",
    "\n",
    "*WebBrowser gets HTML as text from webserver, Creates a structure using HTML. The structure object is called DOM (Document Object Model) Tree.*\n",
    "\n",
    "*Browser then applies CSS (Cascading Style Sheet) to the DOM tree.*\n",
    "\n",
    "*Then Finally runs Javascript using embedded VM (Virtual Machine).*"
   ]
  },
  {
   "cell_type": "markdown",
   "metadata": {},
   "source": [
    "```html\n",
    "<html>\n",
    "    <head>\n",
    "        <title></title>\n",
    "        <meta>\n",
    "    </head>\n",
    "    <body>\n",
    "        <article></article>\n",
    "        <div id=\"section\" class=\"red-text\" data-type=\"meta\">\n",
    "            <span></span>\n",
    "            <p></p>\n",
    "        </div>\n",
    "        <table>\n",
    "            <thead>\n",
    "                <tr>\n",
    "                    <th>S No</th>\n",
    "                    <th>Name</th>\n",
    "                    <th>Action</th>\n",
    "                </tr>\n",
    "            </thead>\n",
    "            <tbody>\n",
    "                 <tr>\n",
    "                    <td>1</td>\n",
    "                    <td>Apple</td>\n",
    "                </tr>\n",
    "                 <tr>\n",
    "                    <td>2</td>\n",
    "                    <td>Microsoft</td>\n",
    "                </tr>\n",
    "                <tr>\n",
    "                    <td colspan=\"2\"></td>\n",
    "                </tr>\n",
    "            </tbody>\n",
    "        </table>\n",
    "    </body>\n",
    "</html>\n",
    "```"
   ]
  },
  {
   "cell_type": "markdown",
   "metadata": {},
   "source": [
    "- _id_ and _class_ are builtin attributes, used to define semantics of the element,\n",
    "    - Also used by CSS to apply rules.\n",
    "- _id_ are unique in a document, i.e `section` should not be used elsewhere.\n",
    "- _class_ are used to identify similar kind of elements, or group certain properties\n",
    "- those attributes starting with `data-` are custom attributes i.e we are allowed to define such attributes\n",
    "    - these attributes are used by many javascript frameworks as well for applying some behavior to the element"
   ]
  },
  {
   "cell_type": "markdown",
   "metadata": {},
   "source": [
    "*Go through w3schools html tutorial, [w3schools.com](s3schools.com) for complete HTML reference.*"
   ]
  },
  {
   "cell_type": "code",
   "execution_count": null,
   "metadata": {
    "collapsed": true
   },
   "outputs": [],
   "source": []
  }
 ],
 "metadata": {
  "kernelspec": {
   "display_name": "Python 3",
   "language": "python",
   "name": "python3"
  },
  "language_info": {
   "codemirror_mode": {
    "name": "ipython",
    "version": 3
   },
   "file_extension": ".py",
   "mimetype": "text/x-python",
   "name": "python",
   "nbconvert_exporter": "python",
   "pygments_lexer": "ipython3",
   "version": "3.7.3"
  }
 },
 "nbformat": 4,
 "nbformat_minor": 2
}
