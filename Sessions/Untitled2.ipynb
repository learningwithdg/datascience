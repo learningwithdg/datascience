{
 "cells": [
  {
   "cell_type": "code",
   "execution_count": 1,
   "metadata": {},
   "outputs": [],
   "source": [
    "import numpy as np\n",
    "import pandas as pd\n",
    "import matplotlib.pyplot as plt\n",
    "import seaborn as sns"
   ]
  },
  {
   "cell_type": "code",
   "execution_count": 2,
   "metadata": {},
   "outputs": [],
   "source": [
    "sns.set()"
   ]
  },
  {
   "cell_type": "code",
   "execution_count": 3,
   "metadata": {},
   "outputs": [],
   "source": [
    "diamonds = sns.load_dataset(\"diamonds\")"
   ]
  },
  {
   "cell_type": "code",
   "execution_count": 4,
   "metadata": {},
   "outputs": [
    {
     "data": {
      "text/html": [
       "<div>\n",
       "<style scoped>\n",
       "    .dataframe tbody tr th:only-of-type {\n",
       "        vertical-align: middle;\n",
       "    }\n",
       "\n",
       "    .dataframe tbody tr th {\n",
       "        vertical-align: top;\n",
       "    }\n",
       "\n",
       "    .dataframe thead th {\n",
       "        text-align: right;\n",
       "    }\n",
       "</style>\n",
       "<table border=\"1\" class=\"dataframe\">\n",
       "  <thead>\n",
       "    <tr style=\"text-align: right;\">\n",
       "      <th></th>\n",
       "      <th>carat</th>\n",
       "      <th>cut</th>\n",
       "      <th>color</th>\n",
       "      <th>clarity</th>\n",
       "      <th>depth</th>\n",
       "      <th>table</th>\n",
       "      <th>price</th>\n",
       "      <th>x</th>\n",
       "      <th>y</th>\n",
       "      <th>z</th>\n",
       "    </tr>\n",
       "  </thead>\n",
       "  <tbody>\n",
       "    <tr>\n",
       "      <th>0</th>\n",
       "      <td>0.23</td>\n",
       "      <td>Ideal</td>\n",
       "      <td>E</td>\n",
       "      <td>SI2</td>\n",
       "      <td>61.5</td>\n",
       "      <td>55.0</td>\n",
       "      <td>326</td>\n",
       "      <td>3.95</td>\n",
       "      <td>3.98</td>\n",
       "      <td>2.43</td>\n",
       "    </tr>\n",
       "    <tr>\n",
       "      <th>1</th>\n",
       "      <td>0.21</td>\n",
       "      <td>Premium</td>\n",
       "      <td>E</td>\n",
       "      <td>SI1</td>\n",
       "      <td>59.8</td>\n",
       "      <td>61.0</td>\n",
       "      <td>326</td>\n",
       "      <td>3.89</td>\n",
       "      <td>3.84</td>\n",
       "      <td>2.31</td>\n",
       "    </tr>\n",
       "    <tr>\n",
       "      <th>2</th>\n",
       "      <td>0.23</td>\n",
       "      <td>Good</td>\n",
       "      <td>E</td>\n",
       "      <td>VS1</td>\n",
       "      <td>56.9</td>\n",
       "      <td>65.0</td>\n",
       "      <td>327</td>\n",
       "      <td>4.05</td>\n",
       "      <td>4.07</td>\n",
       "      <td>2.31</td>\n",
       "    </tr>\n",
       "    <tr>\n",
       "      <th>3</th>\n",
       "      <td>0.29</td>\n",
       "      <td>Premium</td>\n",
       "      <td>I</td>\n",
       "      <td>VS2</td>\n",
       "      <td>62.4</td>\n",
       "      <td>58.0</td>\n",
       "      <td>334</td>\n",
       "      <td>4.20</td>\n",
       "      <td>4.23</td>\n",
       "      <td>2.63</td>\n",
       "    </tr>\n",
       "    <tr>\n",
       "      <th>4</th>\n",
       "      <td>0.31</td>\n",
       "      <td>Good</td>\n",
       "      <td>J</td>\n",
       "      <td>SI2</td>\n",
       "      <td>63.3</td>\n",
       "      <td>58.0</td>\n",
       "      <td>335</td>\n",
       "      <td>4.34</td>\n",
       "      <td>4.35</td>\n",
       "      <td>2.75</td>\n",
       "    </tr>\n",
       "  </tbody>\n",
       "</table>\n",
       "</div>"
      ],
      "text/plain": [
       "   carat      cut color clarity  depth  table  price     x     y     z\n",
       "0   0.23    Ideal     E     SI2   61.5   55.0    326  3.95  3.98  2.43\n",
       "1   0.21  Premium     E     SI1   59.8   61.0    326  3.89  3.84  2.31\n",
       "2   0.23     Good     E     VS1   56.9   65.0    327  4.05  4.07  2.31\n",
       "3   0.29  Premium     I     VS2   62.4   58.0    334  4.20  4.23  2.63\n",
       "4   0.31     Good     J     SI2   63.3   58.0    335  4.34  4.35  2.75"
      ]
     },
     "execution_count": 4,
     "metadata": {},
     "output_type": "execute_result"
    }
   ],
   "source": [
    "diamonds.head()"
   ]
  },
  {
   "cell_type": "code",
   "execution_count": 5,
   "metadata": {},
   "outputs": [
    {
     "data": {
      "text/plain": [
       "(53940, 10)"
      ]
     },
     "execution_count": 5,
     "metadata": {},
     "output_type": "execute_result"
    }
   ],
   "source": [
    "diamonds.shape"
   ]
  },
  {
   "cell_type": "code",
   "execution_count": 8,
   "metadata": {},
   "outputs": [],
   "source": [
    "df = pd.read_csv(\n",
    "    \"~/Downloads/bitcoin-historical-data/coinbaseUSD_1-min_data_2014-12-01_to_2019-01-09.csv\"\n",
    ")"
   ]
  },
  {
   "cell_type": "code",
   "execution_count": 9,
   "metadata": {},
   "outputs": [
    {
     "data": {
      "text/plain": [
       "(2099760, 8)"
      ]
     },
     "execution_count": 9,
     "metadata": {},
     "output_type": "execute_result"
    }
   ],
   "source": [
    "df.shape"
   ]
  },
  {
   "cell_type": "code",
   "execution_count": 10,
   "metadata": {},
   "outputs": [
    {
     "data": {
      "text/html": [
       "<div>\n",
       "<style scoped>\n",
       "    .dataframe tbody tr th:only-of-type {\n",
       "        vertical-align: middle;\n",
       "    }\n",
       "\n",
       "    .dataframe tbody tr th {\n",
       "        vertical-align: top;\n",
       "    }\n",
       "\n",
       "    .dataframe thead th {\n",
       "        text-align: right;\n",
       "    }\n",
       "</style>\n",
       "<table border=\"1\" class=\"dataframe\">\n",
       "  <thead>\n",
       "    <tr style=\"text-align: right;\">\n",
       "      <th></th>\n",
       "      <th>Timestamp</th>\n",
       "      <th>Open</th>\n",
       "      <th>High</th>\n",
       "      <th>Low</th>\n",
       "      <th>Close</th>\n",
       "      <th>Volume_(BTC)</th>\n",
       "      <th>Volume_(Currency)</th>\n",
       "      <th>Weighted_Price</th>\n",
       "    </tr>\n",
       "  </thead>\n",
       "  <tbody>\n",
       "    <tr>\n",
       "      <th>0</th>\n",
       "      <td>1417411980</td>\n",
       "      <td>300.0</td>\n",
       "      <td>300.0</td>\n",
       "      <td>300.0</td>\n",
       "      <td>300.0</td>\n",
       "      <td>0.01</td>\n",
       "      <td>3.0</td>\n",
       "      <td>300.0</td>\n",
       "    </tr>\n",
       "    <tr>\n",
       "      <th>1</th>\n",
       "      <td>1417412040</td>\n",
       "      <td>NaN</td>\n",
       "      <td>NaN</td>\n",
       "      <td>NaN</td>\n",
       "      <td>NaN</td>\n",
       "      <td>NaN</td>\n",
       "      <td>NaN</td>\n",
       "      <td>NaN</td>\n",
       "    </tr>\n",
       "    <tr>\n",
       "      <th>2</th>\n",
       "      <td>1417412100</td>\n",
       "      <td>NaN</td>\n",
       "      <td>NaN</td>\n",
       "      <td>NaN</td>\n",
       "      <td>NaN</td>\n",
       "      <td>NaN</td>\n",
       "      <td>NaN</td>\n",
       "      <td>NaN</td>\n",
       "    </tr>\n",
       "    <tr>\n",
       "      <th>3</th>\n",
       "      <td>1417412160</td>\n",
       "      <td>NaN</td>\n",
       "      <td>NaN</td>\n",
       "      <td>NaN</td>\n",
       "      <td>NaN</td>\n",
       "      <td>NaN</td>\n",
       "      <td>NaN</td>\n",
       "      <td>NaN</td>\n",
       "    </tr>\n",
       "    <tr>\n",
       "      <th>4</th>\n",
       "      <td>1417412220</td>\n",
       "      <td>NaN</td>\n",
       "      <td>NaN</td>\n",
       "      <td>NaN</td>\n",
       "      <td>NaN</td>\n",
       "      <td>NaN</td>\n",
       "      <td>NaN</td>\n",
       "      <td>NaN</td>\n",
       "    </tr>\n",
       "  </tbody>\n",
       "</table>\n",
       "</div>"
      ],
      "text/plain": [
       "    Timestamp   Open   High    Low  Close  Volume_(BTC)  Volume_(Currency)  \\\n",
       "0  1417411980  300.0  300.0  300.0  300.0          0.01                3.0   \n",
       "1  1417412040    NaN    NaN    NaN    NaN           NaN                NaN   \n",
       "2  1417412100    NaN    NaN    NaN    NaN           NaN                NaN   \n",
       "3  1417412160    NaN    NaN    NaN    NaN           NaN                NaN   \n",
       "4  1417412220    NaN    NaN    NaN    NaN           NaN                NaN   \n",
       "\n",
       "   Weighted_Price  \n",
       "0           300.0  \n",
       "1             NaN  \n",
       "2             NaN  \n",
       "3             NaN  \n",
       "4             NaN  "
      ]
     },
     "execution_count": 10,
     "metadata": {},
     "output_type": "execute_result"
    }
   ],
   "source": [
    "df.head()"
   ]
  },
  {
   "cell_type": "code",
   "execution_count": 11,
   "metadata": {},
   "outputs": [
    {
     "data": {
      "text/html": [
       "<div>\n",
       "<style scoped>\n",
       "    .dataframe tbody tr th:only-of-type {\n",
       "        vertical-align: middle;\n",
       "    }\n",
       "\n",
       "    .dataframe tbody tr th {\n",
       "        vertical-align: top;\n",
       "    }\n",
       "\n",
       "    .dataframe thead th {\n",
       "        text-align: right;\n",
       "    }\n",
       "</style>\n",
       "<table border=\"1\" class=\"dataframe\">\n",
       "  <thead>\n",
       "    <tr style=\"text-align: right;\">\n",
       "      <th></th>\n",
       "      <th>Timestamp</th>\n",
       "      <th>Open</th>\n",
       "      <th>High</th>\n",
       "      <th>Low</th>\n",
       "      <th>Close</th>\n",
       "      <th>Volume_(BTC)</th>\n",
       "      <th>Volume_(Currency)</th>\n",
       "      <th>Weighted_Price</th>\n",
       "    </tr>\n",
       "  </thead>\n",
       "  <tbody>\n",
       "    <tr>\n",
       "      <th>2099755</th>\n",
       "      <td>1546898520</td>\n",
       "      <td>4006.01</td>\n",
       "      <td>4006.57</td>\n",
       "      <td>4006.00</td>\n",
       "      <td>4006.01</td>\n",
       "      <td>3.382954</td>\n",
       "      <td>13553.433078</td>\n",
       "      <td>4006.390309</td>\n",
       "    </tr>\n",
       "    <tr>\n",
       "      <th>2099756</th>\n",
       "      <td>1546898580</td>\n",
       "      <td>4006.01</td>\n",
       "      <td>4006.57</td>\n",
       "      <td>4006.00</td>\n",
       "      <td>4006.01</td>\n",
       "      <td>0.902164</td>\n",
       "      <td>3614.083169</td>\n",
       "      <td>4006.017233</td>\n",
       "    </tr>\n",
       "    <tr>\n",
       "      <th>2099757</th>\n",
       "      <td>1546898640</td>\n",
       "      <td>4006.01</td>\n",
       "      <td>4006.01</td>\n",
       "      <td>4006.00</td>\n",
       "      <td>4006.01</td>\n",
       "      <td>1.192123</td>\n",
       "      <td>4775.647308</td>\n",
       "      <td>4006.003635</td>\n",
       "    </tr>\n",
       "    <tr>\n",
       "      <th>2099758</th>\n",
       "      <td>1546898700</td>\n",
       "      <td>4006.01</td>\n",
       "      <td>4006.01</td>\n",
       "      <td>4005.50</td>\n",
       "      <td>4005.50</td>\n",
       "      <td>2.699700</td>\n",
       "      <td>10814.241898</td>\n",
       "      <td>4005.719991</td>\n",
       "    </tr>\n",
       "    <tr>\n",
       "      <th>2099759</th>\n",
       "      <td>1546898760</td>\n",
       "      <td>4005.51</td>\n",
       "      <td>4006.01</td>\n",
       "      <td>4005.51</td>\n",
       "      <td>4005.99</td>\n",
       "      <td>1.752778</td>\n",
       "      <td>7021.183546</td>\n",
       "      <td>4005.745614</td>\n",
       "    </tr>\n",
       "  </tbody>\n",
       "</table>\n",
       "</div>"
      ],
      "text/plain": [
       "          Timestamp     Open     High      Low    Close  Volume_(BTC)  \\\n",
       "2099755  1546898520  4006.01  4006.57  4006.00  4006.01      3.382954   \n",
       "2099756  1546898580  4006.01  4006.57  4006.00  4006.01      0.902164   \n",
       "2099757  1546898640  4006.01  4006.01  4006.00  4006.01      1.192123   \n",
       "2099758  1546898700  4006.01  4006.01  4005.50  4005.50      2.699700   \n",
       "2099759  1546898760  4005.51  4006.01  4005.51  4005.99      1.752778   \n",
       "\n",
       "         Volume_(Currency)  Weighted_Price  \n",
       "2099755       13553.433078     4006.390309  \n",
       "2099756        3614.083169     4006.017233  \n",
       "2099757        4775.647308     4006.003635  \n",
       "2099758       10814.241898     4005.719991  \n",
       "2099759        7021.183546     4005.745614  "
      ]
     },
     "execution_count": 11,
     "metadata": {},
     "output_type": "execute_result"
    }
   ],
   "source": [
    "df.tail()"
   ]
  },
  {
   "cell_type": "code",
   "execution_count": 12,
   "metadata": {},
   "outputs": [
    {
     "data": {
      "text/plain": [
       "\u001b[0;31mSignature:\u001b[0m\n",
       "\u001b[0mpd\u001b[0m\u001b[0;34m.\u001b[0m\u001b[0mto_datetime\u001b[0m\u001b[0;34m(\u001b[0m\u001b[0;34m\u001b[0m\n",
       "\u001b[0;34m\u001b[0m    \u001b[0marg\u001b[0m\u001b[0;34m,\u001b[0m\u001b[0;34m\u001b[0m\n",
       "\u001b[0;34m\u001b[0m    \u001b[0merrors\u001b[0m\u001b[0;34m=\u001b[0m\u001b[0;34m'raise'\u001b[0m\u001b[0;34m,\u001b[0m\u001b[0;34m\u001b[0m\n",
       "\u001b[0;34m\u001b[0m    \u001b[0mdayfirst\u001b[0m\u001b[0;34m=\u001b[0m\u001b[0;32mFalse\u001b[0m\u001b[0;34m,\u001b[0m\u001b[0;34m\u001b[0m\n",
       "\u001b[0;34m\u001b[0m    \u001b[0myearfirst\u001b[0m\u001b[0;34m=\u001b[0m\u001b[0;32mFalse\u001b[0m\u001b[0;34m,\u001b[0m\u001b[0;34m\u001b[0m\n",
       "\u001b[0;34m\u001b[0m    \u001b[0mutc\u001b[0m\u001b[0;34m=\u001b[0m\u001b[0;32mNone\u001b[0m\u001b[0;34m,\u001b[0m\u001b[0;34m\u001b[0m\n",
       "\u001b[0;34m\u001b[0m    \u001b[0mbox\u001b[0m\u001b[0;34m=\u001b[0m\u001b[0;32mTrue\u001b[0m\u001b[0;34m,\u001b[0m\u001b[0;34m\u001b[0m\n",
       "\u001b[0;34m\u001b[0m    \u001b[0mformat\u001b[0m\u001b[0;34m=\u001b[0m\u001b[0;32mNone\u001b[0m\u001b[0;34m,\u001b[0m\u001b[0;34m\u001b[0m\n",
       "\u001b[0;34m\u001b[0m    \u001b[0mexact\u001b[0m\u001b[0;34m=\u001b[0m\u001b[0;32mTrue\u001b[0m\u001b[0;34m,\u001b[0m\u001b[0;34m\u001b[0m\n",
       "\u001b[0;34m\u001b[0m    \u001b[0munit\u001b[0m\u001b[0;34m=\u001b[0m\u001b[0;32mNone\u001b[0m\u001b[0;34m,\u001b[0m\u001b[0;34m\u001b[0m\n",
       "\u001b[0;34m\u001b[0m    \u001b[0minfer_datetime_format\u001b[0m\u001b[0;34m=\u001b[0m\u001b[0;32mFalse\u001b[0m\u001b[0;34m,\u001b[0m\u001b[0;34m\u001b[0m\n",
       "\u001b[0;34m\u001b[0m    \u001b[0morigin\u001b[0m\u001b[0;34m=\u001b[0m\u001b[0;34m'unix'\u001b[0m\u001b[0;34m,\u001b[0m\u001b[0;34m\u001b[0m\n",
       "\u001b[0;34m\u001b[0m    \u001b[0mcache\u001b[0m\u001b[0;34m=\u001b[0m\u001b[0;32mFalse\u001b[0m\u001b[0;34m,\u001b[0m\u001b[0;34m\u001b[0m\n",
       "\u001b[0;34m\u001b[0m\u001b[0;34m)\u001b[0m\u001b[0;34m\u001b[0m\u001b[0;34m\u001b[0m\u001b[0m\n",
       "\u001b[0;31mDocstring:\u001b[0m\n",
       "Convert argument to datetime.\n",
       "\n",
       "Parameters\n",
       "----------\n",
       "arg : integer, float, string, datetime, list, tuple, 1-d array, Series\n",
       "\n",
       "    .. versionadded:: 0.18.1\n",
       "\n",
       "       or DataFrame/dict-like\n",
       "\n",
       "errors : {'ignore', 'raise', 'coerce'}, default 'raise'\n",
       "\n",
       "    - If 'raise', then invalid parsing will raise an exception\n",
       "    - If 'coerce', then invalid parsing will be set as NaT\n",
       "    - If 'ignore', then invalid parsing will return the input\n",
       "dayfirst : boolean, default False\n",
       "    Specify a date parse order if `arg` is str or its list-likes.\n",
       "    If True, parses dates with the day first, eg 10/11/12 is parsed as\n",
       "    2012-11-10.\n",
       "    Warning: dayfirst=True is not strict, but will prefer to parse\n",
       "    with day first (this is a known bug, based on dateutil behavior).\n",
       "yearfirst : boolean, default False\n",
       "    Specify a date parse order if `arg` is str or its list-likes.\n",
       "\n",
       "    - If True parses dates with the year first, eg 10/11/12 is parsed as\n",
       "      2010-11-12.\n",
       "    - If both dayfirst and yearfirst are True, yearfirst is preceded (same\n",
       "      as dateutil).\n",
       "\n",
       "    Warning: yearfirst=True is not strict, but will prefer to parse\n",
       "    with year first (this is a known bug, based on dateutil behavior).\n",
       "\n",
       "    .. versionadded:: 0.16.1\n",
       "\n",
       "utc : boolean, default None\n",
       "    Return UTC DatetimeIndex if True (converting any tz-aware\n",
       "    datetime.datetime objects as well).\n",
       "box : boolean, default True\n",
       "\n",
       "    - If True returns a DatetimeIndex or Index-like object\n",
       "    - If False returns ndarray of values.\n",
       "format : string, default None\n",
       "    strftime to parse time, eg \"%d/%m/%Y\", note that \"%f\" will parse\n",
       "    all the way up to nanoseconds.\n",
       "exact : boolean, True by default\n",
       "\n",
       "    - If True, require an exact format match.\n",
       "    - If False, allow the format to match anywhere in the target string.\n",
       "\n",
       "unit : string, default 'ns'\n",
       "    unit of the arg (D,s,ms,us,ns) denote the unit, which is an\n",
       "    integer or float number. This will be based off the origin.\n",
       "    Example, with unit='ms' and origin='unix' (the default), this\n",
       "    would calculate the number of milliseconds to the unix epoch start.\n",
       "infer_datetime_format : boolean, default False\n",
       "    If True and no `format` is given, attempt to infer the format of the\n",
       "    datetime strings, and if it can be inferred, switch to a faster\n",
       "    method of parsing them. In some cases this can increase the parsing\n",
       "    speed by ~5-10x.\n",
       "origin : scalar, default is 'unix'\n",
       "    Define the reference date. The numeric values would be parsed as number\n",
       "    of units (defined by `unit`) since this reference date.\n",
       "\n",
       "    - If 'unix' (or POSIX) time; origin is set to 1970-01-01.\n",
       "    - If 'julian', unit must be 'D', and origin is set to beginning of\n",
       "      Julian Calendar. Julian day number 0 is assigned to the day starting\n",
       "      at noon on January 1, 4713 BC.\n",
       "    - If Timestamp convertible, origin is set to Timestamp identified by\n",
       "      origin.\n",
       "\n",
       "    .. versionadded:: 0.20.0\n",
       "cache : boolean, default False\n",
       "    If True, use a cache of unique, converted dates to apply the datetime\n",
       "    conversion. May produce significant speed-up when parsing duplicate\n",
       "    date strings, especially ones with timezone offsets.\n",
       "\n",
       "    .. versionadded:: 0.23.0\n",
       "\n",
       "Returns\n",
       "-------\n",
       "ret : datetime if parsing succeeded.\n",
       "    Return type depends on input:\n",
       "\n",
       "    - list-like: DatetimeIndex\n",
       "    - Series: Series of datetime64 dtype\n",
       "    - scalar: Timestamp\n",
       "\n",
       "    In case when it is not possible to return designated types (e.g. when\n",
       "    any element of input is before Timestamp.min or after Timestamp.max)\n",
       "    return will have datetime.datetime type (or corresponding\n",
       "    array/Series).\n",
       "\n",
       "See Also\n",
       "--------\n",
       "pandas.DataFrame.astype : Cast argument to a specified dtype.\n",
       "pandas.to_timedelta : Convert argument to timedelta.\n",
       "\n",
       "Examples\n",
       "--------\n",
       "Assembling a datetime from multiple columns of a DataFrame. The keys can be\n",
       "common abbreviations like ['year', 'month', 'day', 'minute', 'second',\n",
       "'ms', 'us', 'ns']) or plurals of the same\n",
       "\n",
       ">>> df = pd.DataFrame({'year': [2015, 2016],\n",
       "                       'month': [2, 3],\n",
       "                       'day': [4, 5]})\n",
       ">>> pd.to_datetime(df)\n",
       "0   2015-02-04\n",
       "1   2016-03-05\n",
       "dtype: datetime64[ns]\n",
       "\n",
       "If a date does not meet the `timestamp limitations\n",
       "<http://pandas.pydata.org/pandas-docs/stable/timeseries.html\n",
       "#timeseries-timestamp-limits>`_, passing errors='ignore'\n",
       "will return the original input instead of raising any exception.\n",
       "\n",
       "Passing errors='coerce' will force an out-of-bounds date to NaT,\n",
       "in addition to forcing non-dates (or non-parseable dates) to NaT.\n",
       "\n",
       ">>> pd.to_datetime('13000101', format='%Y%m%d', errors='ignore')\n",
       "datetime.datetime(1300, 1, 1, 0, 0)\n",
       ">>> pd.to_datetime('13000101', format='%Y%m%d', errors='coerce')\n",
       "NaT\n",
       "\n",
       "Passing infer_datetime_format=True can often-times speedup a parsing\n",
       "if its not an ISO8601 format exactly, but in a regular format.\n",
       "\n",
       ">>> s = pd.Series(['3/11/2000', '3/12/2000', '3/13/2000']*1000)\n",
       "\n",
       ">>> s.head()\n",
       "0    3/11/2000\n",
       "1    3/12/2000\n",
       "2    3/13/2000\n",
       "3    3/11/2000\n",
       "4    3/12/2000\n",
       "dtype: object\n",
       "\n",
       ">>> %timeit pd.to_datetime(s,infer_datetime_format=True)\n",
       "100 loops, best of 3: 10.4 ms per loop\n",
       "\n",
       ">>> %timeit pd.to_datetime(s,infer_datetime_format=False)\n",
       "1 loop, best of 3: 471 ms per loop\n",
       "\n",
       "Using a unix epoch time\n",
       "\n",
       ">>> pd.to_datetime(1490195805, unit='s')\n",
       "Timestamp('2017-03-22 15:16:45')\n",
       ">>> pd.to_datetime(1490195805433502912, unit='ns')\n",
       "Timestamp('2017-03-22 15:16:45.433502912')\n",
       "\n",
       ".. warning:: For float arg, precision rounding might happen. To prevent\n",
       "    unexpected behavior use a fixed-width exact type.\n",
       "\n",
       "Using a non-unix epoch origin\n",
       "\n",
       ">>> pd.to_datetime([1, 2, 3], unit='D',\n",
       "                   origin=pd.Timestamp('1960-01-01'))\n",
       "0    1960-01-02\n",
       "1    1960-01-03\n",
       "2    1960-01-04\n",
       "\u001b[0;31mFile:\u001b[0m      /usr/lib/python3.7/site-packages/pandas/core/tools/datetimes.py\n",
       "\u001b[0;31mType:\u001b[0m      function\n"
      ]
     },
     "metadata": {},
     "output_type": "display_data"
    }
   ],
   "source": [
    "pd.to_datetime?"
   ]
  },
  {
   "cell_type": "code",
   "execution_count": 14,
   "metadata": {},
   "outputs": [
    {
     "data": {
      "text/plain": [
       "0   1970-01-01 00:00:01.417411980\n",
       "1   1970-01-01 00:00:01.417412040\n",
       "2   1970-01-01 00:00:01.417412100\n",
       "3   1970-01-01 00:00:01.417412160\n",
       "4   1970-01-01 00:00:01.417412220\n",
       "Name: Timestamp, dtype: datetime64[ns]"
      ]
     },
     "execution_count": 14,
     "metadata": {},
     "output_type": "execute_result"
    }
   ],
   "source": [
    "pd.to_datetime(df[\"Timestamp\"]).head()"
   ]
  },
  {
   "cell_type": "code",
   "execution_count": 15,
   "metadata": {},
   "outputs": [
    {
     "data": {
      "text/plain": [
       "0    1417411980\n",
       "1    1417412040\n",
       "2    1417412100\n",
       "3    1417412160\n",
       "4    1417412220\n",
       "Name: Timestamp, dtype: int64"
      ]
     },
     "execution_count": 15,
     "metadata": {},
     "output_type": "execute_result"
    }
   ],
   "source": [
    "df[\"Timestamp\"].head()"
   ]
  },
  {
   "cell_type": "code",
   "execution_count": 16,
   "metadata": {},
   "outputs": [
    {
     "data": {
      "text/plain": [
       "2099755   1970-01-01 00:00:01.546898520\n",
       "2099756   1970-01-01 00:00:01.546898580\n",
       "2099757   1970-01-01 00:00:01.546898640\n",
       "2099758   1970-01-01 00:00:01.546898700\n",
       "2099759   1970-01-01 00:00:01.546898760\n",
       "Name: Timestamp, dtype: datetime64[ns]"
      ]
     },
     "execution_count": 16,
     "metadata": {},
     "output_type": "execute_result"
    }
   ],
   "source": [
    "pd.to_datetime(df[\"Timestamp\"]).tail()"
   ]
  },
  {
   "cell_type": "code",
   "execution_count": 17,
   "metadata": {},
   "outputs": [
    {
     "ename": "TypeError",
     "evalue": "Cannot convert input [0          1417411980\n1          1417412040\n2          1417412100\n3          1417412160\n4          1417412220\n5          1417412280\n6          1417412340\n7          1417412400\n8          1417412460\n9          1417412520\n10         1417412580\n11         1417412640\n12         1417412700\n13         1417412760\n14         1417412820\n15         1417412880\n16         1417412940\n17         1417413000\n18         1417413060\n19         1417413120\n20         1417413180\n21         1417413240\n22         1417413300\n23         1417413360\n24         1417413420\n25         1417413480\n26         1417413540\n27         1417413600\n28         1417413660\n29         1417413720\n              ...    \n2099730    1546897020\n2099731    1546897080\n2099732    1546897140\n2099733    1546897200\n2099734    1546897260\n2099735    1546897320\n2099736    1546897380\n2099737    1546897440\n2099738    1546897500\n2099739    1546897560\n2099740    1546897620\n2099741    1546897680\n2099742    1546897740\n2099743    1546897800\n2099744    1546897860\n2099745    1546897920\n2099746    1546897980\n2099747    1546898040\n2099748    1546898100\n2099749    1546898160\n2099750    1546898220\n2099751    1546898280\n2099752    1546898340\n2099753    1546898400\n2099754    1546898460\n2099755    1546898520\n2099756    1546898580\n2099757    1546898640\n2099758    1546898700\n2099759    1546898760\nName: Timestamp, Length: 2099760, dtype: int64] of type <class 'pandas.core.series.Series'> to Timestamp",
     "output_type": "error",
     "traceback": [
      "\u001b[0;31m---------------------------------------------------------------------------\u001b[0m",
      "\u001b[0;31mTypeError\u001b[0m                                 Traceback (most recent call last)",
      "\u001b[0;32m<ipython-input-17-e1a0be12fd4e>\u001b[0m in \u001b[0;36m<module>\u001b[0;34m\u001b[0m\n\u001b[0;32m----> 1\u001b[0;31m \u001b[0mpd\u001b[0m\u001b[0;34m.\u001b[0m\u001b[0mTimestamp\u001b[0m\u001b[0;34m(\u001b[0m\u001b[0mdf\u001b[0m\u001b[0;34m[\u001b[0m\u001b[0;34m\"Timestamp\"\u001b[0m\u001b[0;34m]\u001b[0m\u001b[0;34m)\u001b[0m\u001b[0;34m.\u001b[0m\u001b[0mhead\u001b[0m\u001b[0;34m(\u001b[0m\u001b[0;34m)\u001b[0m\u001b[0;34m\u001b[0m\u001b[0;34m\u001b[0m\u001b[0m\n\u001b[0m",
      "\u001b[0;32mpandas/_libs/tslibs/timestamps.pyx\u001b[0m in \u001b[0;36mpandas._libs.tslibs.timestamps.Timestamp.__new__\u001b[0;34m()\u001b[0m\n",
      "\u001b[0;32mpandas/_libs/tslibs/conversion.pyx\u001b[0m in \u001b[0;36mpandas._libs.tslibs.conversion.convert_to_tsobject\u001b[0;34m()\u001b[0m\n",
      "\u001b[0;31mTypeError\u001b[0m: Cannot convert input [0          1417411980\n1          1417412040\n2          1417412100\n3          1417412160\n4          1417412220\n5          1417412280\n6          1417412340\n7          1417412400\n8          1417412460\n9          1417412520\n10         1417412580\n11         1417412640\n12         1417412700\n13         1417412760\n14         1417412820\n15         1417412880\n16         1417412940\n17         1417413000\n18         1417413060\n19         1417413120\n20         1417413180\n21         1417413240\n22         1417413300\n23         1417413360\n24         1417413420\n25         1417413480\n26         1417413540\n27         1417413600\n28         1417413660\n29         1417413720\n              ...    \n2099730    1546897020\n2099731    1546897080\n2099732    1546897140\n2099733    1546897200\n2099734    1546897260\n2099735    1546897320\n2099736    1546897380\n2099737    1546897440\n2099738    1546897500\n2099739    1546897560\n2099740    1546897620\n2099741    1546897680\n2099742    1546897740\n2099743    1546897800\n2099744    1546897860\n2099745    1546897920\n2099746    1546897980\n2099747    1546898040\n2099748    1546898100\n2099749    1546898160\n2099750    1546898220\n2099751    1546898280\n2099752    1546898340\n2099753    1546898400\n2099754    1546898460\n2099755    1546898520\n2099756    1546898580\n2099757    1546898640\n2099758    1546898700\n2099759    1546898760\nName: Timestamp, Length: 2099760, dtype: int64] of type <class 'pandas.core.series.Series'> to Timestamp"
     ]
    }
   ],
   "source": [
    "pd.(df[\"Timestamp\"]).head()"
   ]
  },
  {
   "cell_type": "code",
   "execution_count": 18,
   "metadata": {},
   "outputs": [
    {
     "data": {
      "text/plain": [
       "0   2014-12-01 05:33:00\n",
       "1   2014-12-01 05:34:00\n",
       "2   2014-12-01 05:35:00\n",
       "3   2014-12-01 05:36:00\n",
       "4   2014-12-01 05:37:00\n",
       "Name: Timestamp, dtype: datetime64[ns]"
      ]
     },
     "execution_count": 18,
     "metadata": {},
     "output_type": "execute_result"
    }
   ],
   "source": [
    "pd.to_datetime(df[\"Timestamp\"], unit=\"s\").head()"
   ]
  },
  {
   "cell_type": "code",
   "execution_count": null,
   "metadata": {},
   "outputs": [],
   "source": []
  }
 ],
 "metadata": {
  "kernelspec": {
   "display_name": "Python 3",
   "language": "python",
   "name": "python3"
  },
  "language_info": {
   "codemirror_mode": {
    "name": "ipython",
    "version": 3
   },
   "file_extension": ".py",
   "mimetype": "text/x-python",
   "name": "python",
   "nbconvert_exporter": "python",
   "pygments_lexer": "ipython3",
   "version": "3.7.3"
  }
 },
 "nbformat": 4,
 "nbformat_minor": 2
}
