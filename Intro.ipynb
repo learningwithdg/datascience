{
 "cells": [
  {
   "cell_type": "markdown",
   "metadata": {},
   "source": [
    "# Datascience Introduction\n",
    "---\n",
    "\n",
    "## What is datascience?\n",
    "---\n",
    "- Analysis/Visualization/Machine Learning?\n",
    "\n",
    "## References for requirements\n",
    "\n",
    "### Python\n",
    "\n",
    "- [http://greenteapress.com/wp/think-python-2e/](http://greenteapress.com/wp/think-python-2e/)\n",
    "\n",
    "### Statistics\n",
    "- [https://openstax.org/](https://openstax.org/)\n",
    "- [https://www.openintro.org/stat/](https://www.openintro.org/stat/)\n",
    "- [http://greenteapress.com/thinkstats/](http://greenteapress.com/thinkstats/)\n",
    "\n",
    "### HTML\n",
    "- [https://www.w3schools.com/html/](https://www.w3schools.com/html/)\n",
    "\n",
    "### Videos\n",
    "- [https://www.khanacademy.org/](https://www.khanacademy.org/)"
   ]
  },
  {
   "cell_type": "markdown",
   "metadata": {},
   "source": [
    "## What we will be using\n",
    "---\n",
    "\n",
    "- Numpy\n",
    "- Pandas\n",
    "- Matplotlib/Seaborn\n",
    "- BeautifulSoup\n",
    "- Requests\n",
    "- Scikit-Learn"
   ]
  },
  {
   "cell_type": "code",
   "execution_count": null,
   "metadata": {},
   "outputs": [],
   "source": []
  }
 ],
 "metadata": {
  "kernelspec": {
   "display_name": "Python 3",
   "language": "python",
   "name": "python3"
  },
  "language_info": {
   "codemirror_mode": {
    "name": "ipython",
    "version": 3
   },
   "file_extension": ".py",
   "mimetype": "text/x-python",
   "name": "python",
   "nbconvert_exporter": "python",
   "pygments_lexer": "ipython3",
   "version": "3.7.3"
  }
 },
 "nbformat": 4,
 "nbformat_minor": 2
}
